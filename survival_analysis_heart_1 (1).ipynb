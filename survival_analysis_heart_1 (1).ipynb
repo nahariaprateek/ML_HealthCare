{
  "nbformat": 4,
  "nbformat_minor": 0,
  "metadata": {
    "colab": {
      "provenance": []
    },
    "kernelspec": {
      "name": "python3",
      "display_name": "Python 3"
    },
    "language_info": {
      "name": "python"
    }
  },
  "cells": [
    {
      "cell_type": "code",
      "source": [
        "#install requirements\n",
        "%pip install lifelines"
      ],
      "metadata": {
        "id": "YOu5QJpdNZ3c",
        "collapsed": true
      },
      "execution_count": null,
      "outputs": []
    },
    {
      "cell_type": "code",
      "execution_count": null,
      "metadata": {
        "id": "v9oSehfINEgf"
      },
      "outputs": [],
      "source": [
        "#import packages\n",
        "import pandas as pd\n",
        "import numpy as np\n",
        "import matplotlib.pyplot as plt\n",
        "\n",
        "from lifelines import KaplanMeierFitter\n",
        "from lifelines.utils import median_survival_times\n",
        "from lifelines.statistics import pairwise_logrank_test\n",
        "from lifelines import datasets\n",
        "from google.colab import auth, drive\n"
      ]
    },
    {
      "cell_type": "code",
      "source": [
        "#create dataframe\n",
        "df = datasets.load_stanford_heart_transplants()"
      ],
      "metadata": {
        "id": "fCQLtX7ZaYiw"
      },
      "execution_count": null,
      "outputs": []
    },
    {
      "cell_type": "code",
      "source": [
        "#inspect data\n",
        "df.head()"
      ],
      "metadata": {
        "id": "gNBjsl_4QN_I"
      },
      "execution_count": null,
      "outputs": []
    },
    {
      "cell_type": "code",
      "source": [
        "#Profile the data\n",
        "df.info()"
      ],
      "metadata": {
        "id": "dGFFxwdJQWtL"
      },
      "execution_count": null,
      "outputs": []
    },
    {
      "cell_type": "code",
      "source": [
        "#inspect every unique value for the columns\n",
        "#Normally wouldn't do this, but the data is small\n",
        "for col in df:\n",
        "    print(col)\n",
        "    print(df[col].unique())"
      ],
      "metadata": {
        "id": "c2DhJJgyWqU6"
      },
      "execution_count": null,
      "outputs": []
    },
    {
      "cell_type": "code",
      "source": [
        "#Statistics on numeric data\n",
        "df.describe()"
      ],
      "metadata": {
        "id": "pkGTMBCSmfU3"
      },
      "execution_count": null,
      "outputs": []
    },
    {
      "cell_type": "code",
      "source": [
        "#instantiate the kmf class\n",
        "kmf = KaplanMeierFitter()"
      ],
      "metadata": {
        "id": "BvswUVRxQtiJ"
      },
      "execution_count": null,
      "outputs": []
    },
    {
      "cell_type": "code",
      "source": [
        "#use the kmf.fit() method to fit the Kaplan-Meier\n",
        "#estimate for the survival function\n",
        "##https://lifelines.readthedocs.io/en/latest/fitters/univariate/KaplanMeierFitter.html#lifelines.fitters.kaplan_meier_fitter.KaplanMeierFitter.fit\n",
        "\n",
        "kmf.fit(durations=df['stop'],\n",
        "        event_observed=df['event'],\n",
        "        entry=df['start'])"
      ],
      "metadata": {
        "id": "GhGaiAqmmJC6"
      },
      "execution_count": null,
      "outputs": []
    },
    {
      "cell_type": "code",
      "source": [
        "#Plot the K-M Survival Curve\n",
        "kmf.survival_function_.plot()\n",
        "plt.show()"
      ],
      "metadata": {
        "id": "H4hVbIuA1ld5"
      },
      "execution_count": null,
      "outputs": []
    },
    {
      "cell_type": "code",
      "source": [
        "#Plot the K-M Survival Curve w/ 95% CIs\n",
        "kmf.plot_survival_function()\n",
        "plt.title('K-M Survival Curve w/ 95% CIs');"
      ],
      "metadata": {
        "id": "js5Ousx32-08"
      },
      "execution_count": null,
      "outputs": []
    },
    {
      "cell_type": "code",
      "source": [
        "#We can look at the median survival time\n",
        "kmf.median_survival_time_\n"
      ],
      "metadata": {
        "id": "4GNLuWss4OIu"
      },
      "execution_count": null,
      "outputs": []
    },
    {
      "cell_type": "code",
      "source": [
        "#Stratify the survival by transplant status\n",
        "\n",
        "#Set up axis\n",
        "ax = plt.subplot(111)\n",
        "\n",
        "#Set up the curve for transplant patients\n",
        "trans_df = df[df['transplant']==1]\n",
        "\n",
        "kmf.fit(durations=trans_df['stop'],\n",
        "        event_observed=trans_df['event'],\n",
        "        entry=trans_df['start'],\n",
        "        label=\"Transplant\")\n",
        "\n",
        "kmf.plot_survival_function(ax=ax)\n",
        "\n",
        "#Set up the curve for non-transplant patients\n",
        "nontrans_df = df[df['transplant']==0]\n",
        "\n",
        "kmf.fit(durations=nontrans_df['stop'],\n",
        "        event_observed=nontrans_df['event'],\n",
        "        entry=nontrans_df['start'],\n",
        "        label=\"Non Transplant\")\n",
        "\n",
        "kmf.plot_survival_function(ax=ax)\n",
        "\n",
        "plt.title(\"K-M Survival Plot, stratified by Transplant Status\");"
      ],
      "metadata": {
        "id": "yTp6Hv272Ntx"
      },
      "execution_count": null,
      "outputs": []
    },
    {
      "cell_type": "code",
      "source": [
        "#Stratify the survival by surgery status\n",
        "\n",
        "#Set up axis\n",
        "ax = plt.subplot(111)\n",
        "\n",
        "#Set up the curve for surgery patients\n",
        "surg_df = df[df['surgery']==1]\n",
        "\n",
        "kmf.fit(durations=surg_df['stop'],\n",
        "        event_observed=surg_df['event'],\n",
        "        entry=surg_df['start'],\n",
        "        label=\"Surgery\")\n",
        "\n",
        "kmf.plot_survival_function(ax=ax)\n",
        "\n",
        "#Set up the curve for non-transplant patients\n",
        "nonsurg_df = df[df['surgery']==0]\n",
        "\n",
        "kmf.fit(durations=nonsurg_df['stop'],\n",
        "        event_observed=nonsurg_df['event'],\n",
        "        entry=nonsurg_df['start'],\n",
        "        label=\"Non Surgery\")\n",
        "kmf.plot_survival_function(ax=ax)\n",
        "\n",
        "plt.title(\"K-M Survival Plot, stratified by Surgery Status\");\n"
      ],
      "metadata": {
        "id": "Pj3xdqId0nqv"
      },
      "execution_count": null,
      "outputs": []
    },
    {
      "cell_type": "code",
      "source": [
        "#Stratify the survival by surgery status\n",
        "#But Let's add a summary table to the output\n",
        "\n",
        "#Set up axis object\n",
        "ax = plt.subplot(111)\n",
        "\n",
        "#Set up the curve for nonsurgery patients\n",
        "kmf_nonsurgery = KaplanMeierFitter()\n",
        "\n",
        "nonsurg_df = df[df['surgery'] == 0]\n",
        "\n",
        "ax = kmf_nonsurgery.fit(durations=nonsurg_df['stop'],\n",
        "                        event_observed=nonsurg_df['event'],\n",
        "                        entry=nonsurg_df['start'],\n",
        "                        label=\"Non Surgery\").plot_survival_function(ax=ax)\n",
        "\n",
        "\n",
        "#Set up the curve for surgery patients\n",
        "kmf_surgery = KaplanMeierFitter()\n",
        "\n",
        "surg_df = df[df['surgery'] == 1]\n",
        "\n",
        "ax = kmf_surgery.fit(durations=surg_df['stop'],\n",
        "                     event_observed=surg_df['event'],\n",
        "                     entry=surg_df['start'],\n",
        "                     label=\"Surgery\").plot_survival_function(ax=ax)\n",
        "\n",
        "\n",
        "#Set up at_risk_counts()\n",
        "from lifelines.plotting import add_at_risk_counts\n",
        "add_at_risk_counts(kmf_nonsurgery, kmf_nonsurgery, ax=ax)\n",
        "\n",
        "\n",
        "#Plot\n",
        "plt.tight_layout()\n",
        "\n",
        "plt.title(\"K-M Survival Plot, stratified by Surgery Status\");"
      ],
      "metadata": {
        "id": "DoORmM2Z7EOf"
      },
      "execution_count": null,
      "outputs": []
    },
    {
      "cell_type": "code",
      "source": [
        "#Let's look at the log rank test rests\n",
        "\n",
        "#import log rank package\n",
        "#link here - https://lifelines.readthedocs.io/en/latest/lifelines.statistics.html#lifelines.statistics.logrank_test\n",
        "from lifelines.statistics import logrank_test\n",
        "\n",
        "#Create duration variables for the dataframes\n",
        "df['duration'] = df['stop'] - df['start']\n",
        "surg_df = df[df['surgery'] == 1]\n",
        "nonsurg_df = df[df['surgery'] == 0]\n",
        "\n",
        "#run the lrt\n",
        "lrt_results = logrank_test(durations_A = nonsurg_df['duration'],\n",
        "                           durations_B = surg_df['duration'],\n",
        "                           event_observed_A = nonsurg_df['event'],\n",
        "                           event_observed_B = surg_df['event'])\n",
        "\n",
        "lrt_results.print_summary()\n"
      ],
      "metadata": {
        "id": "tQqqRfJuA6oM"
      },
      "execution_count": null,
      "outputs": []
    }
  ]
}