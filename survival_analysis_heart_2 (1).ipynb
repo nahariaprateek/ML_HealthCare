{
  "nbformat": 4,
  "nbformat_minor": 0,
  "metadata": {
    "colab": {
      "provenance": []
    },
    "kernelspec": {
      "name": "python3",
      "display_name": "Python 3"
    },
    "language_info": {
      "name": "python"
    }
  },
  "cells": [
    {
      "cell_type": "code",
      "source": [
        "#install requirements\n",
        "%pip install lifelines"
      ],
      "metadata": {
        "id": "YOu5QJpdNZ3c"
      },
      "execution_count": null,
      "outputs": []
    },
    {
      "cell_type": "code",
      "execution_count": null,
      "metadata": {
        "id": "v9oSehfINEgf"
      },
      "outputs": [],
      "source": [
        "#import packages\n",
        "import pandas as pd\n",
        "import numpy as np\n",
        "import matplotlib.pyplot as plt\n",
        "\n",
        "from lifelines import KaplanMeierFitter\n",
        "from lifelines.utils import median_survival_times\n",
        "from lifelines.statistics import pairwise_logrank_test\n",
        "from lifelines import datasets\n",
        "from google.colab import auth, drive\n"
      ]
    },
    {
      "cell_type": "code",
      "source": [
        "#load the dataset into a dataframe\n",
        "df = datasets.load_stanford_heart_transplants()"
      ],
      "metadata": {
        "id": "fCQLtX7ZaYiw"
      },
      "execution_count": null,
      "outputs": []
    },
    {
      "cell_type": "code",
      "source": [
        "#inspect data\n",
        "df.head()"
      ],
      "metadata": {
        "id": "gNBjsl_4QN_I"
      },
      "execution_count": null,
      "outputs": []
    },
    {
      "cell_type": "markdown",
      "source": [
        "\n",
        "\n",
        "##Test assumption of proportional hazards for surgery vs non-surgery\n"
      ],
      "metadata": {
        "id": "4QQw_n7VD6-Z"
      }
    },
    {
      "cell_type": "code",
      "source": [
        "#create time-dependent interaction term\n",
        "df['time*surgery'] = df['surgery'] * df['stop']\n",
        "\n",
        "#create duration variable\n",
        "df['duration'] = df['stop']-df['start']"
      ],
      "metadata": {
        "id": "_4AqlkOtn2Ax"
      },
      "execution_count": null,
      "outputs": []
    },
    {
      "cell_type": "code",
      "source": [
        "# Fit the Kaplan-Meier model\n",
        "kmf = KaplanMeierFitter()\n",
        "\n",
        "# Helper function for plotting Kaplan-Meier curves at the covariate level\n",
        "def plot_km(col):\n",
        "  ax = plt.subplot(111)\n",
        "  for r in df[col].unique():\n",
        "    ix = df[col] == r\n",
        "    kmf.fit(durations=df['stop'][ix],\n",
        "            event_observed=df['event'][ix],\n",
        "            entry=df['start'][ix],\n",
        "            label=r)\n",
        "    kmf.plot(ax=ax, title=col)\n",
        "\n",
        "plot_km('surgery')"
      ],
      "metadata": {
        "id": "zqmxYwXaIXXl"
      },
      "execution_count": null,
      "outputs": []
    },
    {
      "cell_type": "code",
      "source": [
        "#Log-Log Plots\n",
        "\n",
        "# Fit the Kaplan-Meier model\n",
        "kmf = KaplanMeierFitter()\n",
        "\n",
        "# Utility function for plotting\n",
        "def plot_km_loglog(col):\n",
        "  ax = plt.subplot(111)\n",
        "  for r in df[col].unique():\n",
        "    ix = df[col] == r\n",
        "    #print(ix)\n",
        "    kmf.fit(durations=df['stop'][ix],\n",
        "            event_observed=df['event'][ix],\n",
        "            entry=df['start'][ix],\n",
        "            label=r)\n",
        "    kmf.plot_loglogs(ax=ax, title=col)\n",
        "\n",
        "plot_km_loglog('surgery')\n"
      ],
      "metadata": {
        "id": "nWzrusoJEDSA"
      },
      "execution_count": null,
      "outputs": []
    },
    {
      "cell_type": "code",
      "source": [
        "#Time Varying Interaction\n",
        "\n",
        "#Import coxtimevarying\n",
        "from lifelines import CoxTimeVaryingFitter\n",
        "\n",
        "#Instantiate the ctv class\n",
        "ctv = CoxTimeVaryingFitter()\n",
        "\n",
        "#Fit the model\n",
        "ctv.fit(df,\n",
        "        id_col = None, #only use with multiple measures of a person\n",
        "        event_col = 'event',\n",
        "        start_col = 'start',\n",
        "        stop_col = 'stop')\n",
        "\n",
        "ctv.print_summary()"
      ],
      "metadata": {
        "id": "dGFFxwdJQWtL"
      },
      "execution_count": null,
      "outputs": []
    },
    {
      "cell_type": "code",
      "source": [
        "#Schoenfeld's residuals\n",
        "\n",
        "#import CPHFitter\n",
        "from lifelines import CoxPHFitter\n",
        "\n",
        "#instantiate a cph class\n",
        "cph = CoxPHFitter()\n",
        "\n",
        "#Call fit\n",
        "##https://github.com/CamDavidsonPilon/lifelines/blob/716b20441768ad399e40ff71baad8fea872c43e5/lifelines/fitters/coxph_fitter.py#L167C13-L167C13\n",
        "cph.fit(df[['age', 'surgery','duration','event']],\n",
        "        duration_col='duration',\n",
        "        event_col='event')\n",
        "\n",
        "\n",
        "#Check assumptions\n",
        "cph.check_assumptions(df[['age', 'surgery','duration','event']], p_value_threshold=0.05, show_plots=True)\n"
      ],
      "metadata": {
        "id": "Uf4i1h42wCVi"
      },
      "execution_count": null,
      "outputs": []
    },
    {
      "cell_type": "code",
      "source": [
        "#What happens if we don't specify plots in the output?\n",
        "cph.check_assumptions(df[['age', 'surgery','duration','event']], p_value_threshold=0.05)\n"
      ],
      "metadata": {
        "id": "A0rGMjrl1KwO"
      },
      "execution_count": null,
      "outputs": []
    },
    {
      "cell_type": "code",
      "source": [
        "cph.print_summary()"
      ],
      "metadata": {
        "id": "pQfaJwj947r7"
      },
      "execution_count": null,
      "outputs": []
    },
    {
      "cell_type": "code",
      "source": [
        "cph.plot(hazard_ratios=True)"
      ],
      "metadata": {
        "id": "OvfTFpqS48-V"
      },
      "execution_count": null,
      "outputs": []
    }
  ]
}